{
 "cells": [
  {
   "cell_type": "code",
   "execution_count": 1,
   "id": "4549cf83",
   "metadata": {},
   "outputs": [],
   "source": [
    "import numpy as np\n",
    "import pandas as pd"
   ]
  },
  {
   "cell_type": "markdown",
   "id": "300fc9d6",
   "metadata": {},
   "source": [
    "> Source: https://www.geonames.org/about.html"
   ]
  },
  {
   "cell_type": "code",
   "execution_count": 31,
   "id": "20fe4931",
   "metadata": {},
   "outputs": [],
   "source": [
    "geoname = [\"geonameid\",\"name\",\"asciiname\",\"alternatenames\",\"latitude\",\"longitude\",\"feature class\",\"feature code\",\"country code\",\"cc2\",\"admin1 code\",\"admin2 code\",\"admin3 code\",\"admin4 code\",\"population\",\"elevation\",\"dem\",\"timezone\",\"modification date\"]\n",
    "cities15000 = pd.read_table(\"cities15000.txt\", sep=\"\\t\", header=None, names=geoname)"
   ]
  },
  {
   "cell_type": "code",
   "execution_count": 34,
   "id": "630dae57",
   "metadata": {},
   "outputs": [],
   "source": [
    "cities15000_sorted = cities15000[[\"name\", \"population\", \"latitude\", \"longitude\"]].sort_values(\"population\", ascending=False)[:10000]"
   ]
  },
  {
   "cell_type": "code",
   "execution_count": 40,
   "id": "a52888a3",
   "metadata": {},
   "outputs": [
    {
     "data": {
      "text/html": [
       "<div>\n",
       "<style scoped>\n",
       "    .dataframe tbody tr th:only-of-type {\n",
       "        vertical-align: middle;\n",
       "    }\n",
       "\n",
       "    .dataframe tbody tr th {\n",
       "        vertical-align: top;\n",
       "    }\n",
       "\n",
       "    .dataframe thead th {\n",
       "        text-align: right;\n",
       "    }\n",
       "</style>\n",
       "<table border=\"1\" class=\"dataframe\">\n",
       "  <thead>\n",
       "    <tr style=\"text-align: right;\">\n",
       "      <th></th>\n",
       "      <th>name</th>\n",
       "      <th>population</th>\n",
       "      <th>latitude</th>\n",
       "      <th>longitude</th>\n",
       "    </tr>\n",
       "  </thead>\n",
       "  <tbody>\n",
       "    <tr>\n",
       "      <th>3731</th>\n",
       "      <td>Shanghai</td>\n",
       "      <td>22315474</td>\n",
       "      <td>31.22222</td>\n",
       "      <td>121.45806</td>\n",
       "    </tr>\n",
       "    <tr>\n",
       "      <th>4249</th>\n",
       "      <td>Beijing</td>\n",
       "      <td>18960744</td>\n",
       "      <td>39.90750</td>\n",
       "      <td>116.39723</td>\n",
       "    </tr>\n",
       "    <tr>\n",
       "      <th>3713</th>\n",
       "      <td>Shenzhen</td>\n",
       "      <td>17494398</td>\n",
       "      <td>22.54554</td>\n",
       "      <td>114.06830</td>\n",
       "    </tr>\n",
       "    <tr>\n",
       "      <th>4099</th>\n",
       "      <td>Guangzhou</td>\n",
       "      <td>16096724</td>\n",
       "      <td>23.11667</td>\n",
       "      <td>113.25000</td>\n",
       "    </tr>\n",
       "    <tr>\n",
       "      <th>20825</th>\n",
       "      <td>Istanbul</td>\n",
       "      <td>14804116</td>\n",
       "      <td>41.01384</td>\n",
       "      <td>28.94966</td>\n",
       "    </tr>\n",
       "    <tr>\n",
       "      <th>...</th>\n",
       "      <td>...</td>\n",
       "      <td>...</td>\n",
       "      <td>...</td>\n",
       "      <td>...</td>\n",
       "    </tr>\n",
       "    <tr>\n",
       "      <th>9382</th>\n",
       "      <td>San José Pinula</td>\n",
       "      <td>47247</td>\n",
       "      <td>14.54600</td>\n",
       "      <td>-90.41288</td>\n",
       "    </tr>\n",
       "    <tr>\n",
       "      <th>24061</th>\n",
       "      <td>Mission District</td>\n",
       "      <td>47234</td>\n",
       "      <td>37.75993</td>\n",
       "      <td>-122.41914</td>\n",
       "    </tr>\n",
       "    <tr>\n",
       "      <th>14347</th>\n",
       "      <td>Meru</td>\n",
       "      <td>47226</td>\n",
       "      <td>0.04626</td>\n",
       "      <td>37.65587</td>\n",
       "    </tr>\n",
       "    <tr>\n",
       "      <th>20544</th>\n",
       "      <td>Tire</td>\n",
       "      <td>47220</td>\n",
       "      <td>38.08877</td>\n",
       "      <td>27.73508</td>\n",
       "    </tr>\n",
       "    <tr>\n",
       "      <th>3367</th>\n",
       "      <td>Hanwang</td>\n",
       "      <td>47205</td>\n",
       "      <td>34.19444</td>\n",
       "      <td>117.08333</td>\n",
       "    </tr>\n",
       "  </tbody>\n",
       "</table>\n",
       "<p>10000 rows × 4 columns</p>\n",
       "</div>"
      ],
      "text/plain": [
       "                   name  population  latitude  longitude\n",
       "3731           Shanghai    22315474  31.22222  121.45806\n",
       "4249            Beijing    18960744  39.90750  116.39723\n",
       "3713           Shenzhen    17494398  22.54554  114.06830\n",
       "4099          Guangzhou    16096724  23.11667  113.25000\n",
       "20825          Istanbul    14804116  41.01384   28.94966\n",
       "...                 ...         ...       ...        ...\n",
       "9382    San José Pinula       47247  14.54600  -90.41288\n",
       "24061  Mission District       47234  37.75993 -122.41914\n",
       "14347              Meru       47226   0.04626   37.65587\n",
       "20544              Tire       47220  38.08877   27.73508\n",
       "3367            Hanwang       47205  34.19444  117.08333\n",
       "\n",
       "[10000 rows x 4 columns]"
      ]
     },
     "execution_count": 40,
     "metadata": {},
     "output_type": "execute_result"
    }
   ],
   "source": [
    "cities15000_sorted"
   ]
  },
  {
   "cell_type": "code",
   "execution_count": null,
   "id": "43fa42e4",
   "metadata": {},
   "outputs": [],
   "source": []
  }
 ],
 "metadata": {
  "kernelspec": {
   "display_name": "Python 3 (ipykernel)",
   "language": "python",
   "name": "python3"
  },
  "language_info": {
   "codemirror_mode": {
    "name": "ipython",
    "version": 3
   },
   "file_extension": ".py",
   "mimetype": "text/x-python",
   "name": "python",
   "nbconvert_exporter": "python",
   "pygments_lexer": "ipython3",
   "version": "3.10.1"
  }
 },
 "nbformat": 4,
 "nbformat_minor": 5
}
